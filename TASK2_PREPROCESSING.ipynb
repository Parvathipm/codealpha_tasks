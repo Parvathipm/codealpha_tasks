{
 "cells": [
  {
   "cell_type": "markdown",
   "id": "4a6a79c6-8dc8-425f-8960-d491420d0716",
   "metadata": {},
   "source": [
    "<h1 style=\"color: green;\">TASK- 2</h1>"
   ]
  },
  {
   "cell_type": "markdown",
   "id": "2426d6aa-97b4-48f2-ae39-7c4bca7bd786",
   "metadata": {},
   "source": [
    "<h1 style=\"color: green;\">DATA PRE-PROCESSING</h1>"
   ]
  },
  {
   "cell_type": "markdown",
   "id": "4a8180fb-f64e-4a5d-968e-a473c239a79c",
   "metadata": {},
   "source": [
    "<h1 style=\"color: black;\">AIM</h1>"
   ]
  },
  {
   "cell_type": "markdown",
   "id": "5be8e1ec-af9c-4369-952b-6e09909299c7",
   "metadata": {},
   "source": [
    "Aim of this task is to conduct preprocessing on a random dataset which enables to prepare raw data for analysis and modeling in a way that enhances the quality and performance of machine learning models."
   ]
  },
  {
   "cell_type": "markdown",
   "id": "eacc3297-a391-463a-a54c-1cf24141d1a1",
   "metadata": {},
   "source": [
    "<h1 style=\"color: black;\">Importing Necessary Libraries</h1>"
   ]
  },
  {
   "cell_type": "code",
   "execution_count": 26,
   "id": "505f6846-d4bf-4a4d-b749-fe8f8ac34820",
   "metadata": {},
   "outputs": [],
   "source": [
    "import pandas as pd\n",
    "import numpy as np\n",
    "from scipy import stats\n",
    "import matplotlib.pyplot as plt\n",
    "import seaborn as sns\n",
    "from sklearn.model_selection import train_test_split\n",
    "from sklearn.preprocessing import StandardScaler, MinMaxScaler # for standard scaling of features"
   ]
  },
  {
   "cell_type": "markdown",
   "id": "67060abe-06ec-462e-9973-421173198402",
   "metadata": {},
   "source": [
    "<h1 style=\"color: black\">Load the Dataset</h1>"
   ]
  },
  {
   "cell_type": "markdown",
   "id": "a43de4da-0ed0-4e70-a8c8-c9cd179f109d",
   "metadata": {},
   "source": [
    "DATA DESCRIPTION:\n",
    "\n",
    "The dataset used in this project is originally from NIDDK. The objective is to predict whether or not a patient has diabetes, based on certain diagnostic measurements included in the dataset.\n",
    "The datasets consists of several medical predictor variables and one target variable (Outcome). Predictor variables includes the number of pregnancies the patient has had, their BMI, insulin level, age, and more.\n",
    "\n",
    "VARIABLES DESCRIPTION:\n",
    "\n",
    "Pregnancies Number of times pregnant\r\n",
    "Glucose Plasma glucose concentration in an oral glucose tolerance test\r\n",
    "BloodPressure Diastolic blood pressure (mm Hg)\r\n",
    "SkinThickness Triceps skinfold thickness (mm)\r\n",
    "Insulin Two hour serum insulin\r\n",
    "BMI Body Mass Index\r\n",
    "DiabetesPedigreeFunction Diabetes pedigree nunction\r\n",
    "Age Age in years\r\n",
    "Outcome Class variable (either 0 or 1). 268 of 768 values are 1, and the others are 0."
   ]
  },
  {
   "cell_type": "code",
   "execution_count": 27,
   "id": "f46d95da-a7f5-4e58-bb7e-a8c5ea521a84",
   "metadata": {},
   "outputs": [
    {
     "data": {
      "text/html": [
       "<div>\n",
       "<style scoped>\n",
       "    .dataframe tbody tr th:only-of-type {\n",
       "        vertical-align: middle;\n",
       "    }\n",
       "\n",
       "    .dataframe tbody tr th {\n",
       "        vertical-align: top;\n",
       "    }\n",
       "\n",
       "    .dataframe thead th {\n",
       "        text-align: right;\n",
       "    }\n",
       "</style>\n",
       "<table border=\"1\" class=\"dataframe\">\n",
       "  <thead>\n",
       "    <tr style=\"text-align: right;\">\n",
       "      <th></th>\n",
       "      <th>Pregnancies</th>\n",
       "      <th>Glucose</th>\n",
       "      <th>BloodPressure</th>\n",
       "      <th>SkinThickness</th>\n",
       "      <th>Insulin</th>\n",
       "      <th>BMI</th>\n",
       "      <th>DiabetesPedigreeFunction</th>\n",
       "      <th>Age</th>\n",
       "      <th>Outcome</th>\n",
       "    </tr>\n",
       "  </thead>\n",
       "  <tbody>\n",
       "    <tr>\n",
       "      <th>0</th>\n",
       "      <td>6</td>\n",
       "      <td>148</td>\n",
       "      <td>72.0</td>\n",
       "      <td>35.0</td>\n",
       "      <td>0.0</td>\n",
       "      <td>33.6</td>\n",
       "      <td>0.627</td>\n",
       "      <td>50</td>\n",
       "      <td>1</td>\n",
       "    </tr>\n",
       "    <tr>\n",
       "      <th>1</th>\n",
       "      <td>1</td>\n",
       "      <td>85</td>\n",
       "      <td>66.0</td>\n",
       "      <td>29.0</td>\n",
       "      <td>0.0</td>\n",
       "      <td>26.6</td>\n",
       "      <td>0.351</td>\n",
       "      <td>31</td>\n",
       "      <td>0</td>\n",
       "    </tr>\n",
       "    <tr>\n",
       "      <th>2</th>\n",
       "      <td>8</td>\n",
       "      <td>183</td>\n",
       "      <td>64.0</td>\n",
       "      <td>0.0</td>\n",
       "      <td>0.0</td>\n",
       "      <td>23.3</td>\n",
       "      <td>0.672</td>\n",
       "      <td>32</td>\n",
       "      <td>1</td>\n",
       "    </tr>\n",
       "    <tr>\n",
       "      <th>3</th>\n",
       "      <td>1</td>\n",
       "      <td>89</td>\n",
       "      <td>66.0</td>\n",
       "      <td>23.0</td>\n",
       "      <td>94.0</td>\n",
       "      <td>28.1</td>\n",
       "      <td>0.167</td>\n",
       "      <td>21</td>\n",
       "      <td>0</td>\n",
       "    </tr>\n",
       "    <tr>\n",
       "      <th>4</th>\n",
       "      <td>0</td>\n",
       "      <td>137</td>\n",
       "      <td>40.0</td>\n",
       "      <td>35.0</td>\n",
       "      <td>168.0</td>\n",
       "      <td>43.1</td>\n",
       "      <td>2.288</td>\n",
       "      <td>33</td>\n",
       "      <td>1</td>\n",
       "    </tr>\n",
       "  </tbody>\n",
       "</table>\n",
       "</div>"
      ],
      "text/plain": [
       "   Pregnancies  Glucose  BloodPressure  SkinThickness  Insulin   BMI  \\\n",
       "0            6      148           72.0           35.0      0.0  33.6   \n",
       "1            1       85           66.0           29.0      0.0  26.6   \n",
       "2            8      183           64.0            0.0      0.0  23.3   \n",
       "3            1       89           66.0           23.0     94.0  28.1   \n",
       "4            0      137           40.0           35.0    168.0  43.1   \n",
       "\n",
       "   DiabetesPedigreeFunction  Age  Outcome  \n",
       "0                     0.627   50        1  \n",
       "1                     0.351   31        0  \n",
       "2                     0.672   32        1  \n",
       "3                     0.167   21        0  \n",
       "4                     2.288   33        1  "
      ]
     },
     "execution_count": 27,
     "metadata": {},
     "output_type": "execute_result"
    }
   ],
   "source": [
    "df=pd.read_csv(\"Diabetesdata.csv\")\n",
    "df.head() # To view the first few rows of the dataset"
   ]
  },
  {
   "cell_type": "markdown",
   "id": "1d176e94-e58c-4ebf-a6a0-192371df1c3b",
   "metadata": {},
   "source": [
    "<h1 style=\"color: black;\">Handling Missing values</h1>"
   ]
  },
  {
   "cell_type": "code",
   "execution_count": 28,
   "id": "0e9a1450-3fa1-4987-8847-59324d7ad3f1",
   "metadata": {},
   "outputs": [
    {
     "name": "stdout",
     "output_type": "stream",
     "text": [
      "     Pregnancies  Glucose  BloodPressure  SkinThickness  Insulin    BMI  \\\n",
      "0          False    False          False          False    False  False   \n",
      "1          False    False          False          False    False  False   \n",
      "2          False    False          False          False    False  False   \n",
      "3          False    False          False          False    False  False   \n",
      "4          False    False          False          False    False  False   \n",
      "..           ...      ...            ...            ...      ...    ...   \n",
      "763        False    False          False          False    False  False   \n",
      "764        False    False          False          False    False  False   \n",
      "765        False    False          False          False    False  False   \n",
      "766        False    False          False          False    False  False   \n",
      "767        False    False          False          False    False  False   \n",
      "\n",
      "     DiabetesPedigreeFunction    Age  Outcome  \n",
      "0                       False  False    False  \n",
      "1                       False  False    False  \n",
      "2                       False  False    False  \n",
      "3                       False  False    False  \n",
      "4                       False  False    False  \n",
      "..                        ...    ...      ...  \n",
      "763                     False  False    False  \n",
      "764                     False  False    False  \n",
      "765                     False  False    False  \n",
      "766                     False  False    False  \n",
      "767                     False  False    False  \n",
      "\n",
      "[768 rows x 9 columns]\n"
     ]
    }
   ],
   "source": [
    "missing_values=df.isnull()\n",
    "print(missing_values)"
   ]
  },
  {
   "cell_type": "code",
   "execution_count": 29,
   "id": "8ed88cfd-e937-4798-ae77-30b9fd24e4cb",
   "metadata": {},
   "outputs": [
    {
     "name": "stdout",
     "output_type": "stream",
     "text": [
      "Pregnancies                 0\n",
      "Glucose                     0\n",
      "BloodPressure               2\n",
      "SkinThickness               3\n",
      "Insulin                     1\n",
      "BMI                         3\n",
      "DiabetesPedigreeFunction    3\n",
      "Age                         0\n",
      "Outcome                     0\n",
      "dtype: int64\n"
     ]
    }
   ],
   "source": [
    "#count missing values in each column\n",
    "missingcount_column=df.isnull().sum()\n",
    "print(missingcount_column)"
   ]
  },
  {
   "cell_type": "code",
   "execution_count": 30,
   "id": "c2cb1db5-032a-4dd7-a597-71b146896ba4",
   "metadata": {},
   "outputs": [],
   "source": [
    "#Filling missing values\n",
    "df['BloodPressure'].fillna(df['BloodPressure'].mean(), inplace=True)\n",
    "df['SkinThickness'].fillna(df['SkinThickness'].mean(), inplace=True)\n",
    "df['Insulin'].fillna(df['Insulin'].mean(), inplace=True)\n",
    "df['BMI'].fillna(df['BMI'].mean(), inplace=True)\n",
    "df['DiabetesPedigreeFunction'].fillna(df['DiabetesPedigreeFunction'].mean(), inplace=True)\n"
   ]
  },
  {
   "cell_type": "code",
   "execution_count": 31,
   "id": "b833d809-f023-43b6-ba73-79b64abfbc09",
   "metadata": {},
   "outputs": [],
   "source": [
    "df_cleaned = df.dropna()\n",
    "df_cleaned_columns = df.dropna(axis=1, how='all')"
   ]
  },
  {
   "cell_type": "code",
   "execution_count": 32,
   "id": "222e4af9-8614-4c37-8d74-7d180d613893",
   "metadata": {},
   "outputs": [
    {
     "name": "stdout",
     "output_type": "stream",
     "text": [
      "     Pregnancies  Glucose  BloodPressure  SkinThickness  Insulin   BMI  \\\n",
      "0              6      148           72.0           35.0      0.0  33.6   \n",
      "1              1       85           66.0           29.0      0.0  26.6   \n",
      "2              8      183           64.0            0.0      0.0  23.3   \n",
      "3              1       89           66.0           23.0     94.0  28.1   \n",
      "4              0      137           40.0           35.0    168.0  43.1   \n",
      "..           ...      ...            ...            ...      ...   ...   \n",
      "763           10      101           76.0           48.0    180.0  32.9   \n",
      "764            2      122           70.0           27.0      0.0  36.8   \n",
      "765            5      121           72.0           23.0    112.0  26.2   \n",
      "766            1      126           60.0            0.0      0.0  30.1   \n",
      "767            1       93           70.0           31.0      0.0  30.4   \n",
      "\n",
      "     DiabetesPedigreeFunction  Age  Outcome  \n",
      "0                       0.627   50        1  \n",
      "1                       0.351   31        0  \n",
      "2                       0.672   32        1  \n",
      "3                       0.167   21        0  \n",
      "4                       2.288   33        1  \n",
      "..                        ...  ...      ...  \n",
      "763                     0.171   63        0  \n",
      "764                     0.340   27        0  \n",
      "765                     0.245   30        0  \n",
      "766                     0.349   47        1  \n",
      "767                     0.315   23        0  \n",
      "\n",
      "[768 rows x 9 columns]\n"
     ]
    }
   ],
   "source": [
    "print(df_cleaned_columns)"
   ]
  },
  {
   "cell_type": "markdown",
   "id": "4ab42cf5-9890-4c01-bebf-a3a6a98b8b26",
   "metadata": {},
   "source": [
    "<h1 style=\"color: black;\">Handling Outliers</h1>"
   ]
  },
  {
   "cell_type": "code",
   "execution_count": 33,
   "id": "8f35fa58-9fa0-4484-8f37-9c9cea94cb32",
   "metadata": {},
   "outputs": [
    {
     "data": {
      "image/png": "[encoded data removed]",
      "text/plain": [
       "<Figure size 1200x800 with 1 Axes>"
      ]
     },
     "metadata": {},
     "output_type": "display_data"
    }
   ],
   "source": [
    "plt.figure(figsize=(12, 8))\n",
    "sns.boxplot(data=df)\n",
    "plt.title('Boxplot of All Features')\n",
    "plt.show()"
   ]
  },
  {
   "cell_type": "code",
   "execution_count": 34,
   "id": "fcf5e4ae-c46e-4798-bf85-8c856efeeb24",
   "metadata": {},
   "outputs": [
    {
     "name": "stdout",
     "output_type": "stream",
     "text": [
      "Outliers using Z-score method:\n",
      "     Pregnancies  Glucose  BloodPressure  SkinThickness  Insulin   BMI  \\\n",
      "4              0      137           40.0           35.0    168.0  43.1   \n",
      "7             10      115            0.0            0.0      0.0  35.3   \n",
      "8              2      197           70.0           45.0    543.0  30.5   \n",
      "9              8      125           96.0            0.0      0.0   0.0   \n",
      "13             1      189           60.0           23.0    846.0  30.1   \n",
      "..           ...      ...            ...            ...      ...   ...   \n",
      "695            7      142           90.0           24.0    480.0  30.4   \n",
      "697            0       99            0.0            0.0      0.0  25.0   \n",
      "703            2      129            0.0            0.0      0.0  38.5   \n",
      "706           10      115            0.0            0.0      0.0   0.0   \n",
      "753            0      181           88.0           44.0    510.0  43.3   \n",
      "\n",
      "     DiabetesPedigreeFunction  Age  Outcome  \n",
      "4                       2.288   33        1  \n",
      "7                       0.134   29        0  \n",
      "8                       0.158   53        1  \n",
      "9                       0.232   54        1  \n",
      "13                      0.398   59        1  \n",
      "..                        ...  ...      ...  \n",
      "695                     0.128   43        1  \n",
      "697                     0.253   22        0  \n",
      "703                     0.304   41        0  \n",
      "706                     0.261   30        1  \n",
      "753                     0.222   26        1  \n",
      "\n",
      "[80 rows x 9 columns]\n",
      "\n",
      "Outliers using IQR method:\n",
      "     Pregnancies  Glucose  BloodPressure  SkinThickness  Insulin   BMI  \\\n",
      "4              0      137           40.0           35.0    168.0  43.1   \n",
      "7             10      115            0.0            0.0      0.0  35.3   \n",
      "8              2      197           70.0           45.0    543.0  30.5   \n",
      "9              8      125           96.0            0.0      0.0   0.0   \n",
      "12            10      139           80.0            0.0      0.0  27.1   \n",
      "..           ...      ...            ...            ...      ...   ...   \n",
      "706           10      115            0.0            0.0      0.0   0.0   \n",
      "707            2      127           46.0           21.0    335.0  34.4   \n",
      "710            3      158           64.0           13.0    387.0  31.2   \n",
      "715            7      187           50.0           33.0    392.0  33.9   \n",
      "753            0      181           88.0           44.0    510.0  43.3   \n",
      "\n",
      "     DiabetesPedigreeFunction  Age  Outcome  \n",
      "4                       2.288   33        1  \n",
      "7                       0.134   29        0  \n",
      "8                       0.158   53        1  \n",
      "9                       0.232   54        1  \n",
      "12                      1.441   57        0  \n",
      "..                        ...  ...      ...  \n",
      "706                     0.261   30        1  \n",
      "707                     0.176   22        0  \n",
      "710                     0.295   24        0  \n",
      "715                     0.826   34        1  \n",
      "753                     0.222   26        1  \n",
      "\n",
      "[129 rows x 9 columns]\n"
     ]
    }
   ],
   "source": [
    "z_scores = np.abs(stats.zscore(df))\n",
    "outliers_z = (z_scores > 3).any(axis=1)\n",
    "print(\"Outliers using Z-score method:\")\n",
    "print(df[outliers_z])\n",
    "\n",
    "# IQR method\n",
    "Q1 = df.quantile(0.25)\n",
    "Q3 = df.quantile(0.75)\n",
    "IQR = Q3 - Q1\n",
    "\n",
    "outliers_iqr = ((df < (Q1 - 1.5 * IQR)) | (df > (Q3 + 1.5 * IQR)))\n",
    "print(\"\\nOutliers using IQR method:\")\n",
    "print(df[outliers_iqr.any(axis=1)])"
   ]
  },
  {
   "cell_type": "markdown",
   "id": "fe3baf57-21bb-4bde-8ef2-b59da3f8baf1",
   "metadata": {},
   "source": [
    "<h1 style=\"color: black;\">Normalizing And Scaling Features</h1>"
   ]
  },
  {
   "cell_type": "code",
   "execution_count": 35,
   "id": "b097b6ea-e5bc-4fad-99a7-75939f53d29b",
   "metadata": {},
   "outputs": [
    {
     "name": "stdout",
     "output_type": "stream",
     "text": [
      "[[ 0.63994726  0.84832379  0.14998902 ...  0.20792745  0.46948043\n",
      "   1.4259954 ]\n",
      " [-0.84488505 -1.12339636 -0.1602493  ... -0.68212169 -0.36466156\n",
      "  -0.19067191]\n",
      " [ 1.23388019  1.94372388 -0.26366208 ... -1.10171629  0.60548184\n",
      "  -0.10558415]\n",
      " ...\n",
      " [ 0.3429808   0.00330087  0.14998902 ... -0.73298164 -0.68502044\n",
      "  -0.27575966]\n",
      " [-0.84488505  0.1597866  -0.47048763 ... -0.23709712 -0.37070607\n",
      "   1.17073215]\n",
      " [-0.84488505 -0.8730192   0.04657625 ... -0.19895216 -0.47346269\n",
      "  -0.87137393]]\n"
     ]
    }
   ],
   "source": [
    "# Separate features and target\n",
    "X = df.drop('Outcome', axis=1)  # Replace 'target_column' with your target column name\n",
    "y = df['Outcome']  # Replace 'target_column' with your target column name\n",
    "\n",
    "#StandardScaler (mean=0, std=1)\n",
    "scaler = StandardScaler()\n",
    "X_scaled = scaler.fit_transform(X)\n",
    "print(X_scaled)\n",
    "\n"
   ]
  },
  {
   "cell_type": "markdown",
   "id": "a36fca5f-5ba5-4aab-93dc-a4fd5ab65eed",
   "metadata": {},
   "source": [
    "<h1 style=\"color: whitw;\">Splitting Data into Training And Testing Datasets</h1>"
   ]
  },
  {
   "cell_type": "code",
   "execution_count": 36,
   "id": "448b5967-e97a-443c-8f27-e10c0935d3f7",
   "metadata": {},
   "outputs": [
    {
     "name": "stdout",
     "output_type": "stream",
     "text": [
      "Training features:\n",
      " [[-5.47918591e-01 -1.15469351e+00 -3.57287087e+00 ... -4.06430842e+00\n",
      "  -5.06707480e-01 -1.04154944e+00]\n",
      " [ 1.53084665e+00 -2.78373437e-01  6.67052900e-01 ... -4.78681890e-01\n",
      "   2.44905652e+00  1.42599540e+00]\n",
      " [-8.44885053e-01  5.66649487e-01 -1.19437705e+00 ... -4.15106952e-01\n",
      "   5.51081274e-01 -9.56461683e-01]\n",
      " ...\n",
      " [ 1.82781311e+00 -6.22642036e-01  8.73878450e-01 ...  1.73372597e+00\n",
      "   2.00780750e+00  4.04942367e-01]\n",
      " [-1.14185152e+00  6.29243777e-01 -3.57287087e+00 ...  1.32684636e+00\n",
      "  -8.05910585e-01 -3.60847411e-01]\n",
      " [-1.14185152e+00  1.28489452e-01  1.39094232e+00 ... -1.20343619e+00\n",
      "  -1.67768776e-16 -1.04154944e+00]]\n",
      "Testing features:\n",
      " [[ 6.39947260e-01 -7.16533472e-01 -5.73900400e-01 ...  2.58787397e-01\n",
      "  -1.25903529e-01  8.30381132e-01]\n",
      " [-5.47918591e-01 -2.78373437e-01  3.05108187e-01 ...  4.74942188e-01\n",
      "  -9.78179039e-01 -1.04154944e+00]\n",
      " [-5.47918591e-01 -4.03562018e-01 -2.63662075e-01 ... -1.48092210e-01\n",
      "  -9.47956503e-01 -1.04154944e+00]\n",
      " ...\n",
      " [ 1.23388019e+00 -8.10424908e-01  1.49989025e-01 ...  6.14807053e-01\n",
      "   4.03204184e-02  2.02160968e+00]\n",
      " [-5.47918591e-01  7.85729504e-01  4.65762498e-02 ... -5.04111866e-01\n",
      "  -4.06973112e-01 -3.60847411e-01]\n",
      " [ 1.23388019e+00 -1.46766496e+00  4.65762498e-02 ...  4.24082237e-01\n",
      "  -1.67768776e-16  4.90030120e-01]]\n",
      "Training labels:\n",
      " 60     0\n",
      "618    1\n",
      "346    0\n",
      "294    0\n",
      "231    1\n",
      "      ..\n",
      "71     0\n",
      "106    0\n",
      "270    1\n",
      "435    1\n",
      "102    0\n",
      "Name: Outcome, Length: 614, dtype: int64\n",
      "Testing labels:\n",
      " 668    0\n",
      "324    0\n",
      "624    0\n",
      "690    0\n",
      "473    0\n",
      "      ..\n",
      "355    1\n",
      "534    0\n",
      "344    0\n",
      "296    1\n",
      "462    0\n",
      "Name: Outcome, Length: 154, dtype: int64\n"
     ]
    }
   ],
   "source": [
    "# Split the data into training and testing sets\n",
    "X_train, X_test, y_train, y_test = train_test_split(X_scaled, y, test_size=0.2, random_state=42)\n",
    "\n",
    "# Printing the results to verify\n",
    "print(\"Training features:\\n\", X_train)\n",
    "print(\"Testing features:\\n\", X_test)\n",
    "print(\"Training labels:\\n\", y_train)\n",
    "print(\"Testing labels:\\n\", y_test)"
   ]
  },
  {
   "cell_type": "markdown",
   "id": "330e9d27-239e-430a-9ab7-1226a31f08ae",
   "metadata": {},
   "source": [
    "<h1 style=\"color: black;\">CONCLUSIONS</h1>"
   ]
  },
  {
   "cell_type": "markdown",
   "id": "0137180f-7552-4853-b227-4d6ab1de7ec3",
   "metadata": {},
   "source": [
    "\n",
    "Data preprocessing is a critical step in the data science and machine learning pipeline. It involves cleaning, transforming, and organizing raw data to make it suitable for analysis and modeling. Effective preprocessing ensures that the data is of high quality, leading to more accurate and reliable models.\n",
    "\n",
    "Data Cleaning:\n",
    "Handling missing values and duplicates is essential to avoid biases and inaccuracies in the analysis.\n",
    "Correcting errors in the dataset ensures that the information used is accurate and reliable.\n",
    "\n",
    "Data Transformation:\n",
    "Scaling and normalization put features on a similar scale, improving the performance and stability of models.\n",
    "Feature engineering creates new, meaningful features that can enhance model performance.\n",
    "\n",
    "Handling Outliers:\n",
    "Identifying and managing outliers is crucial because they can skew the results and reduce the performance of models.\n",
    "Techniques such as Z-score and IQR help in effectively detecting and addressing outliers.\n",
    "\n",
    "Data Splitting:\n",
    "Splitting the dataset into training and testing sets allows for the evaluation of the model’s performance on unseen data, ensuring that it generalizes well.\n",
    "\n",
    "\n",
    "\n"
   ]
  }
 ],
 "metadata": {
  "kernelspec": {
   "display_name": "Python 3 (ipykernel)",
   "language": "python",
   "name": "python3"
  },
  "language_info": {
   "codemirror_mode": {
    "name": "ipython",
    "version": 3
   },
   "file_extension": ".py",
   "mimetype": "text/x-python",
   "name": "python",
   "nbconvert_exporter": "python",
   "pygments_lexer": "ipython3",
   "version": "3.11.7"
  }
 },
 "nbformat": 4,
 "nbformat_minor": 5
}
