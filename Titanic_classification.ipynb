{
 "cells": [
  {
   "cell_type": "markdown",
   "id": "fb03a8b5-a977-4040-99d8-c81928798fd5",
   "metadata": {},
   "source": [
    "<h1 style=\"color: blue;\">TASK- 1</h1>"
   ]
  },
  {
   "cell_type": "markdown",
   "id": "68ecd28f-1ff3-491e-ac39-08b6665b5d36",
   "metadata": {},
   "source": [
    "<h1 style=\"color: blue;\">TITANIC CLASSIFICATION</h1>"
   ]
  },
  {
   "cell_type": "markdown",
   "id": "c20965cb-59ac-4ea8-86a9-7d4267190744",
   "metadata": {},
   "source": [
    "## AIM: The aim of the task is to build a system that predicts whether a passenger on the Titanic would survive or not based on various features such as socio-economic status, age, gender, and more. The model uses a Random Forest Classifier for this classification task."
   ]
  },
  {
   "cell_type": "markdown",
   "id": "bf6b141f-a1e5-4930-9141-4d20a085e3bb",
   "metadata": {},
   "source": [
    "Importing necessary libraries:\n",
    "Import necessary libraries for data manipulation (Pandas, Numpy), model building (RandomForestClassifier), data preprocessing (StandardScaler), and model evaluation (accuracy_score, classification_report)."
   ]
  },
  {
   "cell_type": "code",
   "execution_count": 2,
   "id": "14ca7e50-c6a4-4b2c-8c25-1b9f356500aa",
   "metadata": {},
   "outputs": [],
   "source": [
    "import pandas as pd\n",
    "import numpy as np\n",
    "from sklearn.model_selection import train_test_split\n",
    "from sklearn.preprocessing import OneHotEncoder, StandardScaler\n",
    "from sklearn.ensemble import RandomForestClassifier\n",
    "from sklearn.metrics import accuracy_score, classification_report\n"
   ]
  },
  {
   "cell_type": "markdown",
   "id": "26ed8284-41b2-4ccf-93b2-f62e7788ebe4",
   "metadata": {},
   "source": [
    "Load Data:\n",
    "Load the Titanic dataset and display the first few rows to understand its structure.\n",
    "\n"
   ]
  },
  {
   "cell_type": "code",
   "execution_count": 3,
   "id": "a50810b3-1916-4bfb-9b49-808979249cee",
   "metadata": {},
   "outputs": [],
   "source": [
    "data = pd.read_csv('tested.csv')\n"
   ]
  },
  {
   "cell_type": "code",
   "execution_count": 4,
   "id": "8cb8f1dd-6d9e-4db8-9e00-a19ba94e7bed",
   "metadata": {},
   "outputs": [
    {
     "name": "stdout",
     "output_type": "stream",
     "text": [
      "   PassengerId  Survived  Pclass  \\\n",
      "0          892         0       3   \n",
      "1          893         1       3   \n",
      "2          894         0       2   \n",
      "3          895         0       3   \n",
      "4          896         1       3   \n",
      "\n",
      "                                           Name     Sex   Age  SibSp  Parch  \\\n",
      "0                              Kelly, Mr. James    male  34.5      0      0   \n",
      "1              Wilkes, Mrs. James (Ellen Needs)  female  47.0      1      0   \n",
      "2                     Myles, Mr. Thomas Francis    male  62.0      0      0   \n",
      "3                              Wirz, Mr. Albert    male  27.0      0      0   \n",
      "4  Hirvonen, Mrs. Alexander (Helga E Lindqvist)  female  22.0      1      1   \n",
      "\n",
      "    Ticket     Fare Cabin Embarked  \n",
      "0   330911   7.8292   NaN        Q  \n",
      "1   363272   7.0000   NaN        S  \n",
      "2   240276   9.6875   NaN        Q  \n",
      "3   315154   8.6625   NaN        S  \n",
      "4  3101298  12.2875   NaN        S  \n"
     ]
    }
   ],
   "source": [
    "print(data.head())\n"
   ]
  },
  {
   "cell_type": "markdown",
   "id": "83bfc8eb-e04d-4a9a-9d04-fb921bf06978",
   "metadata": {},
   "source": [
    "Data cleaning and Pre-processing:\n",
    "Fill missing values in the 'Age' column with the median age.\n",
    "Fill missing values in the 'Embarked' column with the mode.\n",
    "Drop columns that are not useful for prediction ('Cabin', 'Ticket', 'Name').\n",
    "Convert categorical variables ('Sex', 'Embarked') into dummy/indicator variables.\n"
   ]
  },
  {
   "cell_type": "code",
   "execution_count": 5,
   "id": "11f6e1bd-3e27-40f5-b52c-0e9851741a24",
   "metadata": {},
   "outputs": [],
   "source": [
    "data['Age'].fillna(data['Age'].median(), inplace=True)\n",
    "\n",
    "# Fill missing 'Embarked' with the mode\n",
    "data['Embarked'].fillna(data['Embarked'].mode()[0], inplace=True)\n",
    "\n",
    "# Drop columns that are not useful for prediction\n",
    "data.drop(columns=['Cabin', 'Ticket', 'Name'], inplace=True)\n",
    "\n",
    "# Convert categorical variables into dummy/indicator variables\n",
    "data = pd.get_dummies(data, columns=['Sex', 'Embarked'], drop_first=True)"
   ]
  },
  {
   "cell_type": "markdown",
   "id": "3e3721da-e282-40fb-891d-11a2199da6eb",
   "metadata": {},
   "source": [
    "Feature Engineering:\n",
    "Create a new feature 'FamilySize' by adding the number of siblings/spouses and parents/children plus one.\n",
    "Create another feature 'IsAlone' to indicate whether the passenger was alone or not.\n"
   ]
  },
  {
   "cell_type": "code",
   "execution_count": 6,
   "id": "6c56529f-d32c-459f-9a27-8046183c150f",
   "metadata": {},
   "outputs": [],
   "source": [
    "\n",
    "data['FamilySize'] = data['SibSp'] + data['Parch'] + 1\n",
    "data['IsAlone'] = (data['FamilySize'] == 1).astype(int)\n"
   ]
  },
  {
   "cell_type": "markdown",
   "id": "b03d5fc8-fd57-4fb3-bd0d-c149cf6dc413",
   "metadata": {},
   "source": [
    "Drop remaining missing values in the dataset:\n",
    "Ensure there are no missing values left in the dataset."
   ]
  },
  {
   "cell_type": "code",
   "execution_count": 7,
   "id": "fa401c43-783a-48ac-9fab-3c22bd8861e9",
   "metadata": {},
   "outputs": [],
   "source": [
    "data.dropna(inplace=True)\n"
   ]
  },
  {
   "cell_type": "code",
   "execution_count": 8,
   "id": "6287c9c4-f236-4e6b-8501-e53aac489373",
   "metadata": {},
   "outputs": [],
   "source": [
    "# Splitting the data into features and target variable\n",
    "X = data.drop(columns=['Survived', 'PassengerId'])\n",
    "y = data['Survived']"
   ]
  },
  {
   "cell_type": "markdown",
   "id": "3e58d99e-b72a-40b1-bad5-596b00e53b81",
   "metadata": {},
   "source": [
    "Splitting Data:\n",
    "Separate the features (X) from the target variable (y).\n",
    "Split the data into training and testing sets."
   ]
  },
  {
   "cell_type": "code",
   "execution_count": 9,
   "id": "d282d91b-32cf-4c9c-bee8-acb8610edd5b",
   "metadata": {},
   "outputs": [],
   "source": [
    "X_train, X_test, y_train, y_test = train_test_split(X, y, test_size=0.2, random_state=42)\n"
   ]
  },
  {
   "cell_type": "markdown",
   "id": "fff56c01-e43d-4bc7-990b-58b2e781c137",
   "metadata": {},
   "source": [
    "Standardising Data:\n",
    "Standardize the features to have a mean of 0 and a standard deviation of 1, which helps in improving the performance of the model."
   ]
  },
  {
   "cell_type": "code",
   "execution_count": 10,
   "id": "977313b3-fb0e-41a1-8f22-2b3364e61d29",
   "metadata": {},
   "outputs": [],
   "source": [
    "# Standardizing the data\n",
    "scaler = StandardScaler()\n",
    "X_train_scaled = scaler.fit_transform(X_train)\n",
    "X_test_scaled = scaler.transform(X_test)"
   ]
  },
  {
   "cell_type": "markdown",
   "id": "45eb91c3-52d5-4770-9574-c9f066d7e9a7",
   "metadata": {},
   "source": [
    "Training the model:\n",
    "Train the Random Forest Classifier on the training data."
   ]
  },
  {
   "cell_type": "code",
   "execution_count": 11,
   "id": "33d5d293-4497-4690-940e-a21b793f093c",
   "metadata": {},
   "outputs": [
    {
     "data": {
      "text/html": [
       "<style>#sk-container-id-1 {color: black;background-color: white;}#sk-container-id-1 pre{padding: 0;}#sk-container-id-1 div.sk-toggleable {background-color: white;}#sk-container-id-1 label.sk-toggleable__label {cursor: pointer;display: block;width: 100%;margin-bottom: 0;padding: 0.3em;box-sizing: border-box;text-align: center;}#sk-container-id-1 label.sk-toggleable__label-arrow:before {content: \"▸\";float: left;margin-right: 0.25em;color: #696969;}#sk-container-id-1 label.sk-toggleable__label-arrow:hover:before {color: black;}#sk-container-id-1 div.sk-estimator:hover label.sk-toggleable__label-arrow:before {color: black;}#sk-container-id-1 div.sk-toggleable__content {max-height: 0;max-width: 0;overflow: hidden;text-align: left;background-color: #f0f8ff;}#sk-container-id-1 div.sk-toggleable__content pre {margin: 0.2em;color: black;border-radius: 0.25em;background-color: #f0f8ff;}#sk-container-id-1 input.sk-toggleable__control:checked~div.sk-toggleable__content {max-height: 200px;max-width: 100%;overflow: auto;}#sk-container-id-1 input.sk-toggleable__control:checked~label.sk-toggleable__label-arrow:before {content: \"▾\";}#sk-container-id-1 div.sk-estimator input.sk-toggleable__control:checked~label.sk-toggleable__label {background-color: #d4ebff;}#sk-container-id-1 div.sk-label input.sk-toggleable__control:checked~label.sk-toggleable__label {background-color: #d4ebff;}#sk-container-id-1 input.sk-hidden--visually {border: 0;clip: rect(1px 1px 1px 1px);clip: rect(1px, 1px, 1px, 1px);height: 1px;margin: -1px;overflow: hidden;padding: 0;position: absolute;width: 1px;}#sk-container-id-1 div.sk-estimator {font-family: monospace;background-color: #f0f8ff;border: 1px dotted black;border-radius: 0.25em;box-sizing: border-box;margin-bottom: 0.5em;}#sk-container-id-1 div.sk-estimator:hover {background-color: #d4ebff;}#sk-container-id-1 div.sk-parallel-item::after {content: \"\";width: 100%;border-bottom: 1px solid gray;flex-grow: 1;}#sk-container-id-1 div.sk-label:hover label.sk-toggleable__label {background-color: #d4ebff;}#sk-container-id-1 div.sk-serial::before {content: \"\";position: absolute;border-left: 1px solid gray;box-sizing: border-box;top: 0;bottom: 0;left: 50%;z-index: 0;}#sk-container-id-1 div.sk-serial {display: flex;flex-direction: column;align-items: center;background-color: white;padding-right: 0.2em;padding-left: 0.2em;position: relative;}#sk-container-id-1 div.sk-item {position: relative;z-index: 1;}#sk-container-id-1 div.sk-parallel {display: flex;align-items: stretch;justify-content: center;background-color: white;position: relative;}#sk-container-id-1 div.sk-item::before, #sk-container-id-1 div.sk-parallel-item::before {content: \"\";position: absolute;border-left: 1px solid gray;box-sizing: border-box;top: 0;bottom: 0;left: 50%;z-index: -1;}#sk-container-id-1 div.sk-parallel-item {display: flex;flex-direction: column;z-index: 1;position: relative;background-color: white;}#sk-container-id-1 div.sk-parallel-item:first-child::after {align-self: flex-end;width: 50%;}#sk-container-id-1 div.sk-parallel-item:last-child::after {align-self: flex-start;width: 50%;}#sk-container-id-1 div.sk-parallel-item:only-child::after {width: 0;}#sk-container-id-1 div.sk-dashed-wrapped {border: 1px dashed gray;margin: 0 0.4em 0.5em 0.4em;box-sizing: border-box;padding-bottom: 0.4em;background-color: white;}#sk-container-id-1 div.sk-label label {font-family: monospace;font-weight: bold;display: inline-block;line-height: 1.2em;}#sk-container-id-1 div.sk-label-container {text-align: center;}#sk-container-id-1 div.sk-container {/* jupyter's `normalize.less` sets `[hidden] { display: none; }` but bootstrap.min.css set `[hidden] { display: none !important; }` so we also need the `!important` here to be able to override the default hidden behavior on the sphinx rendered scikit-learn.org. See: https://github.com/scikit-learn/scikit-learn/issues/21755 */display: inline-block !important;position: relative;}#sk-container-id-1 div.sk-text-repr-fallback {display: none;}</style><div id=\"sk-container-id-1\" class=\"sk-top-container\"><div class=\"sk-text-repr-fallback\"><pre>RandomForestClassifier(random_state=42)</pre><b>In a Jupyter environment, please rerun this cell to show the HTML representation or trust the notebook. <br />On GitHub, the HTML representation is unable to render, please try loading this page with nbviewer.org.</b></div><div class=\"sk-container\" hidden><div class=\"sk-item\"><div class=\"sk-estimator sk-toggleable\"><input class=\"sk-toggleable__control sk-hidden--visually\" id=\"sk-estimator-id-1\" type=\"checkbox\" checked><label for=\"sk-estimator-id-1\" class=\"sk-toggleable__label sk-toggleable__label-arrow\">RandomForestClassifier</label><div class=\"sk-toggleable__content\"><pre>RandomForestClassifier(random_state=42)</pre></div></div></div></div></div>"
      ],
      "text/plain": [
       "RandomForestClassifier(random_state=42)"
      ]
     },
     "execution_count": 11,
     "metadata": {},
     "output_type": "execute_result"
    }
   ],
   "source": [
    "# Training the Random Forest Classifier\n",
    "model = RandomForestClassifier(n_estimators=100, random_state=42)\n",
    "model.fit(X_train_scaled, y_train)\n",
    "\n"
   ]
  },
  {
   "cell_type": "markdown",
   "id": "2afbf63e-0cb6-4296-bfb6-e0b2fcd1e7e2",
   "metadata": {},
   "source": [
    "Making Predictions:\n",
    "Use the trained model to make predictions on the test set."
   ]
  },
  {
   "cell_type": "code",
   "execution_count": 12,
   "id": "2fe5d78a-b0d0-4c44-b8cf-aed1159d0921",
   "metadata": {},
   "outputs": [],
   "source": [
    "# Making predictions\n",
    "y_pred = model.predict(X_test_scaled)\n"
   ]
  },
  {
   "cell_type": "markdown",
   "id": "73c1699b-4199-405d-b7c3-558ccdf87be8",
   "metadata": {},
   "source": [
    "Evaluating the model:\n",
    "Calculate the accuracy of the model.\n",
    "Generate a detailed classification report, including precision, recall, and F1-score.\n"
   ]
  },
  {
   "cell_type": "code",
   "execution_count": 14,
   "id": "326f6689-6958-44bb-b367-586cf65bb371",
   "metadata": {},
   "outputs": [
    {
     "name": "stdout",
     "output_type": "stream",
     "text": [
      "Accuracy: 1.00\n",
      "Classification Report:\n",
      "              precision    recall  f1-score   support\n",
      "\n",
      "           0       1.00      1.00      1.00        50\n",
      "           1       1.00      1.00      1.00        34\n",
      "\n",
      "    accuracy                           1.00        84\n",
      "   macro avg       1.00      1.00      1.00        84\n",
      "weighted avg       1.00      1.00      1.00        84\n",
      "\n"
     ]
    }
   ],
   "source": [
    "# Evaluating the model\n",
    "accuracy = accuracy_score(y_test, y_pred)\n",
    "report = classification_report(y_test, y_pred)\n",
    "print(f\"Accuracy: {accuracy:.2f}\")\n",
    "print(\"Classification Report:\")\n",
    "print(report)\n"
   ]
  },
  {
   "cell_type": "markdown",
   "id": "78c8558d-9119-4f1b-9251-2d3d78d7a5b9",
   "metadata": {},
   "source": [
    "Feature Importance:\n",
    "Identify and display the importance of each feature used in the model."
   ]
  },
  {
   "cell_type": "code",
   "execution_count": 15,
   "id": "8502b795-b295-4558-b9ae-bd7d3c58321f",
   "metadata": {},
   "outputs": [
    {
     "name": "stdout",
     "output_type": "stream",
     "text": [
      "Feature Importances:\n",
      "Sex_male      0.811184\n",
      "Fare          0.069562\n",
      "Age           0.039358\n",
      "FamilySize    0.015893\n",
      "Parch         0.014478\n",
      "IsAlone       0.012241\n",
      "Embarked_Q    0.010140\n",
      "SibSp         0.009145\n",
      "Embarked_S    0.009121\n",
      "Pclass        0.008878\n",
      "dtype: float64\n"
     ]
    }
   ],
   "source": [
    "# Feature importance\n",
    "feature_importances = pd.Series(model.feature_importances_, index=X.columns).sort_values(ascending=False)\n",
    "print(\"Feature Importances:\")\n",
    "print(feature_importances)\n"
   ]
  },
  {
   "cell_type": "markdown",
   "id": "67a60a1f-6a0b-40cb-94f5-b8a610c3fb56",
   "metadata": {},
   "source": [
    "Visualization;\n",
    "Visualize the feature importances using a bar plot."
   ]
  },
  {
   "cell_type": "code",
   "execution_count": 17,
   "id": "34484f14-584b-4ffc-892f-1444a2c35fca",
   "metadata": {},
   "outputs": [],
   "source": [
    "# Visualization \n",
    "import matplotlib.pyplot as plt\n",
    "import seaborn as sns\n"
   ]
  },
  {
   "cell_type": "code",
   "execution_count": 18,
   "id": "602af1a6-ceee-4a75-b344-7e06a1fed269",
   "metadata": {},
   "outputs": [
    {
     "data": {
      "image/png": "[encoded data removed]",
      "text/plain": [
       "<Figure size 1000x600 with 1 Axes>"
      ]
     },
     "metadata": {},
     "output_type": "display_data"
    }
   ],
   "source": [
    "plt.figure(figsize=(10, 6))\n",
    "sns.barplot(x=feature_importances, y=feature_importances.index)\n",
    "plt.title(\"Feature Importances\")\n",
    "plt.xlabel(\"Importance Score\")\n",
    "plt.ylabel(\"Features\")\n",
    "plt.show()"
   ]
  },
  {
   "cell_type": "markdown",
   "id": "1ae89104-5f83-4cf3-85f4-02466d92ba6a",
   "metadata": {},
   "source": [
    "Conclusions:\n",
    "\n",
    "Accuracy: The accuracy of the model is almost near to 1 (100%). This indicates that the model has perfectly classified all the test samples.\n",
    "\n",
    "Classification Report:\n",
    "Precision, Recall, F1-Score: All these metrics for both classes (0 and 1) are 1.\n",
    "Support: This indicates the number of occurrences of each class in the test set (50 for class 0 and 34 for class 1).\n",
    "\n",
    "We can rank the features by their importance:\n",
    "\n",
    "Sex_male (0.811184): This feature has the highest importance by a significant margin. It suggests that gender was the most critical factor in predicting survival. Specifically, being male had a strong influence on the likelihood of not surviving.\n",
    "\n",
    "Fare (0.069562): The fare paid by the passenger also played a significant role, indicating that passengers who paid higher fares had a better chance of survival, likely due to being in higher classes with better access to lifeboats.\n",
    "\n",
    "Age (0.039358): Age was another important factor, with younger passengers generally having a higher survival rate, reflecting the \"women and children first\" policy during the evacuation.\n",
    "\n",
    "FamilySize (0.015893): The size of a passenger's family had some impact on survival, possibly because larger families could have found it harder to stay together and secure lifeboat spots for everyone.\n",
    "\n",
    "Parch (0.014478): The number of parents/children aboard also affected survival, similar to family size.\n",
    "\n",
    "IsAlone (0.012241): Whether a passenger was alone had some influence, with those alone possibly finding it easier to secure a place in a lifeboat compared to those with dependents.\n",
    "\n",
    "Embarked_Q (0.010140) and Embarked_S (0.009121): The port of embarkation had a minor influence on survival, potentially due to socio-economic differences among passengers from different ports.\n",
    "\n",
    "SibSp (0.009145): The number of siblings/spouses aboard had a small impact, similar to other family-related features.\n",
    "\n",
    "Pclass (0.008878): Passenger class had the least importance among the listed features, which is somewhat surprising given historical accounts, but it still contributed to the prediction.\n",
    "\n",
    "Concluding that the model's feature importances provide insights into the factors that influenced survival on the Titanic, reinforcing known historical patterns while also highlighting the complex interplay of different socio-economic and demographic factors.\n",
    "\n",
    "\n",
    "\n",
    "\n",
    "\n",
    "\n",
    "\n"
   ]
  }
 ],
 "metadata": {
  "kernelspec": {
   "display_name": "Python 3 (ipykernel)",
   "language": "python",
   "name": "python3"
  },
  "language_info": {
   "codemirror_mode": {
    "name": "ipython",
    "version": 3
   },
   "file_extension": ".py",
   "mimetype": "text/x-python",
   "name": "python",
   "nbconvert_exporter": "python",
   "pygments_lexer": "ipython3",
   "version": "3.11.7"
  }
 },
 "nbformat": 4,
 "nbformat_minor": 5
}
